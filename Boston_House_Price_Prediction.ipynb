{
  "nbformat": 4,
  "nbformat_minor": 0,
  "metadata": {
    "colab": {
      "name": "Boston_House Price Prediction.ipynb",
      "provenance": [],
      "collapsed_sections": [],
      "authorship_tag": "ABX9TyNLz9E+0zdVTGUcJN3Zdwln",
      "include_colab_link": true
    },
    "kernelspec": {
      "name": "python3",
      "display_name": "Python 3"
    },
    "language_info": {
      "name": "python"
    }
  },
  "cells": [
    {
      "cell_type": "markdown",
      "metadata": {
        "id": "view-in-github",
        "colab_type": "text"
      },
      "source": [
        "<a href=\"https://colab.research.google.com/github/PraveenSingh-ML-0728/Regression_Problem/blob/main/Boston_House_Price_Prediction.ipynb\" target=\"_parent\"><img src=\"https://colab.research.google.com/assets/colab-badge.svg\" alt=\"Open In Colab\"/></a>"
      ]
    },
    {
      "cell_type": "markdown",
      "metadata": {
        "id": "UT7UNIfALBsF"
      },
      "source": [
        "Importing The Dependencies"
      ]
    },
    {
      "cell_type": "code",
      "metadata": {
        "id": "E3EF--MxHVba"
      },
      "source": [
        "import numpy as np\n",
        "import pandas as pd\n",
        "import matplotlib.pyplot as plt\n",
        "import seaborn as sns\n",
        "import sklearn.datasets\n",
        "from sklearn.model_selection import  train_test_split\n",
        "from xgboost import XGBRFRegressor\n",
        "from sklearn import metrics"
      ],
      "execution_count": 193,
      "outputs": []
    },
    {
      "cell_type": "markdown",
      "metadata": {
        "id": "mHwqUCWNMonj"
      },
      "source": [
        "Importing Boston_Data_Set"
      ]
    },
    {
      "cell_type": "code",
      "metadata": {
        "id": "hV_romniL3ba"
      },
      "source": [
        "house_price_dataset = sklearn.datasets.load_boston()"
      ],
      "execution_count": 194,
      "outputs": []
    },
    {
      "cell_type": "code",
      "metadata": {
        "colab": {
          "base_uri": "https://localhost:8080/"
        },
        "id": "K-qD-uXSM5q1",
        "outputId": "e03bd337-9cdd-4447-acdf-7bcf1fda1879"
      },
      "source": [
        "print(house_price_dataset)"
      ],
      "execution_count": 195,
      "outputs": [
        {
          "output_type": "stream",
          "text": [
            "{'data': array([[6.3200e-03, 1.8000e+01, 2.3100e+00, ..., 1.5300e+01, 3.9690e+02,\n",
            "        4.9800e+00],\n",
            "       [2.7310e-02, 0.0000e+00, 7.0700e+00, ..., 1.7800e+01, 3.9690e+02,\n",
            "        9.1400e+00],\n",
            "       [2.7290e-02, 0.0000e+00, 7.0700e+00, ..., 1.7800e+01, 3.9283e+02,\n",
            "        4.0300e+00],\n",
            "       ...,\n",
            "       [6.0760e-02, 0.0000e+00, 1.1930e+01, ..., 2.1000e+01, 3.9690e+02,\n",
            "        5.6400e+00],\n",
            "       [1.0959e-01, 0.0000e+00, 1.1930e+01, ..., 2.1000e+01, 3.9345e+02,\n",
            "        6.4800e+00],\n",
            "       [4.7410e-02, 0.0000e+00, 1.1930e+01, ..., 2.1000e+01, 3.9690e+02,\n",
            "        7.8800e+00]]), 'target': array([24. , 21.6, 34.7, 33.4, 36.2, 28.7, 22.9, 27.1, 16.5, 18.9, 15. ,\n",
            "       18.9, 21.7, 20.4, 18.2, 19.9, 23.1, 17.5, 20.2, 18.2, 13.6, 19.6,\n",
            "       15.2, 14.5, 15.6, 13.9, 16.6, 14.8, 18.4, 21. , 12.7, 14.5, 13.2,\n",
            "       13.1, 13.5, 18.9, 20. , 21. , 24.7, 30.8, 34.9, 26.6, 25.3, 24.7,\n",
            "       21.2, 19.3, 20. , 16.6, 14.4, 19.4, 19.7, 20.5, 25. , 23.4, 18.9,\n",
            "       35.4, 24.7, 31.6, 23.3, 19.6, 18.7, 16. , 22.2, 25. , 33. , 23.5,\n",
            "       19.4, 22. , 17.4, 20.9, 24.2, 21.7, 22.8, 23.4, 24.1, 21.4, 20. ,\n",
            "       20.8, 21.2, 20.3, 28. , 23.9, 24.8, 22.9, 23.9, 26.6, 22.5, 22.2,\n",
            "       23.6, 28.7, 22.6, 22. , 22.9, 25. , 20.6, 28.4, 21.4, 38.7, 43.8,\n",
            "       33.2, 27.5, 26.5, 18.6, 19.3, 20.1, 19.5, 19.5, 20.4, 19.8, 19.4,\n",
            "       21.7, 22.8, 18.8, 18.7, 18.5, 18.3, 21.2, 19.2, 20.4, 19.3, 22. ,\n",
            "       20.3, 20.5, 17.3, 18.8, 21.4, 15.7, 16.2, 18. , 14.3, 19.2, 19.6,\n",
            "       23. , 18.4, 15.6, 18.1, 17.4, 17.1, 13.3, 17.8, 14. , 14.4, 13.4,\n",
            "       15.6, 11.8, 13.8, 15.6, 14.6, 17.8, 15.4, 21.5, 19.6, 15.3, 19.4,\n",
            "       17. , 15.6, 13.1, 41.3, 24.3, 23.3, 27. , 50. , 50. , 50. , 22.7,\n",
            "       25. , 50. , 23.8, 23.8, 22.3, 17.4, 19.1, 23.1, 23.6, 22.6, 29.4,\n",
            "       23.2, 24.6, 29.9, 37.2, 39.8, 36.2, 37.9, 32.5, 26.4, 29.6, 50. ,\n",
            "       32. , 29.8, 34.9, 37. , 30.5, 36.4, 31.1, 29.1, 50. , 33.3, 30.3,\n",
            "       34.6, 34.9, 32.9, 24.1, 42.3, 48.5, 50. , 22.6, 24.4, 22.5, 24.4,\n",
            "       20. , 21.7, 19.3, 22.4, 28.1, 23.7, 25. , 23.3, 28.7, 21.5, 23. ,\n",
            "       26.7, 21.7, 27.5, 30.1, 44.8, 50. , 37.6, 31.6, 46.7, 31.5, 24.3,\n",
            "       31.7, 41.7, 48.3, 29. , 24. , 25.1, 31.5, 23.7, 23.3, 22. , 20.1,\n",
            "       22.2, 23.7, 17.6, 18.5, 24.3, 20.5, 24.5, 26.2, 24.4, 24.8, 29.6,\n",
            "       42.8, 21.9, 20.9, 44. , 50. , 36. , 30.1, 33.8, 43.1, 48.8, 31. ,\n",
            "       36.5, 22.8, 30.7, 50. , 43.5, 20.7, 21.1, 25.2, 24.4, 35.2, 32.4,\n",
            "       32. , 33.2, 33.1, 29.1, 35.1, 45.4, 35.4, 46. , 50. , 32.2, 22. ,\n",
            "       20.1, 23.2, 22.3, 24.8, 28.5, 37.3, 27.9, 23.9, 21.7, 28.6, 27.1,\n",
            "       20.3, 22.5, 29. , 24.8, 22. , 26.4, 33.1, 36.1, 28.4, 33.4, 28.2,\n",
            "       22.8, 20.3, 16.1, 22.1, 19.4, 21.6, 23.8, 16.2, 17.8, 19.8, 23.1,\n",
            "       21. , 23.8, 23.1, 20.4, 18.5, 25. , 24.6, 23. , 22.2, 19.3, 22.6,\n",
            "       19.8, 17.1, 19.4, 22.2, 20.7, 21.1, 19.5, 18.5, 20.6, 19. , 18.7,\n",
            "       32.7, 16.5, 23.9, 31.2, 17.5, 17.2, 23.1, 24.5, 26.6, 22.9, 24.1,\n",
            "       18.6, 30.1, 18.2, 20.6, 17.8, 21.7, 22.7, 22.6, 25. , 19.9, 20.8,\n",
            "       16.8, 21.9, 27.5, 21.9, 23.1, 50. , 50. , 50. , 50. , 50. , 13.8,\n",
            "       13.8, 15. , 13.9, 13.3, 13.1, 10.2, 10.4, 10.9, 11.3, 12.3,  8.8,\n",
            "        7.2, 10.5,  7.4, 10.2, 11.5, 15.1, 23.2,  9.7, 13.8, 12.7, 13.1,\n",
            "       12.5,  8.5,  5. ,  6.3,  5.6,  7.2, 12.1,  8.3,  8.5,  5. , 11.9,\n",
            "       27.9, 17.2, 27.5, 15. , 17.2, 17.9, 16.3,  7. ,  7.2,  7.5, 10.4,\n",
            "        8.8,  8.4, 16.7, 14.2, 20.8, 13.4, 11.7,  8.3, 10.2, 10.9, 11. ,\n",
            "        9.5, 14.5, 14.1, 16.1, 14.3, 11.7, 13.4,  9.6,  8.7,  8.4, 12.8,\n",
            "       10.5, 17.1, 18.4, 15.4, 10.8, 11.8, 14.9, 12.6, 14.1, 13. , 13.4,\n",
            "       15.2, 16.1, 17.8, 14.9, 14.1, 12.7, 13.5, 14.9, 20. , 16.4, 17.7,\n",
            "       19.5, 20.2, 21.4, 19.9, 19. , 19.1, 19.1, 20.1, 19.9, 19.6, 23.2,\n",
            "       29.8, 13.8, 13.3, 16.7, 12. , 14.6, 21.4, 23. , 23.7, 25. , 21.8,\n",
            "       20.6, 21.2, 19.1, 20.6, 15.2,  7. ,  8.1, 13.6, 20.1, 21.8, 24.5,\n",
            "       23.1, 19.7, 18.3, 21.2, 17.5, 16.8, 22.4, 20.6, 23.9, 22. , 11.9]), 'feature_names': array(['CRIM', 'ZN', 'INDUS', 'CHAS', 'NOX', 'RM', 'AGE', 'DIS', 'RAD',\n",
            "       'TAX', 'PTRATIO', 'B', 'LSTAT'], dtype='<U7'), 'DESCR': \".. _boston_dataset:\\n\\nBoston house prices dataset\\n---------------------------\\n\\n**Data Set Characteristics:**  \\n\\n    :Number of Instances: 506 \\n\\n    :Number of Attributes: 13 numeric/categorical predictive. Median Value (attribute 14) is usually the target.\\n\\n    :Attribute Information (in order):\\n        - CRIM     per capita crime rate by town\\n        - ZN       proportion of residential land zoned for lots over 25,000 sq.ft.\\n        - INDUS    proportion of non-retail business acres per town\\n        - CHAS     Charles River dummy variable (= 1 if tract bounds river; 0 otherwise)\\n        - NOX      nitric oxides concentration (parts per 10 million)\\n        - RM       average number of rooms per dwelling\\n        - AGE      proportion of owner-occupied units built prior to 1940\\n        - DIS      weighted distances to five Boston employment centres\\n        - RAD      index of accessibility to radial highways\\n        - TAX      full-value property-tax rate per $10,000\\n        - PTRATIO  pupil-teacher ratio by town\\n        - B        1000(Bk - 0.63)^2 where Bk is the proportion of blacks by town\\n        - LSTAT    % lower status of the population\\n        - MEDV     Median value of owner-occupied homes in $1000's\\n\\n    :Missing Attribute Values: None\\n\\n    :Creator: Harrison, D. and Rubinfeld, D.L.\\n\\nThis is a copy of UCI ML housing dataset.\\nhttps://archive.ics.uci.edu/ml/machine-learning-databases/housing/\\n\\n\\nThis dataset was taken from the StatLib library which is maintained at Carnegie Mellon University.\\n\\nThe Boston house-price data of Harrison, D. and Rubinfeld, D.L. 'Hedonic\\nprices and the demand for clean air', J. Environ. Economics & Management,\\nvol.5, 81-102, 1978.   Used in Belsley, Kuh & Welsch, 'Regression diagnostics\\n...', Wiley, 1980.   N.B. Various transformations are used in the table on\\npages 244-261 of the latter.\\n\\nThe Boston house-price data has been used in many machine learning papers that address regression\\nproblems.   \\n     \\n.. topic:: References\\n\\n   - Belsley, Kuh & Welsch, 'Regression diagnostics: Identifying Influential Data and Sources of Collinearity', Wiley, 1980. 244-261.\\n   - Quinlan,R. (1993). Combining Instance-Based and Model-Based Learning. In Proceedings on the Tenth International Conference of Machine Learning, 236-243, University of Massachusetts, Amherst. Morgan Kaufmann.\\n\", 'filename': '/usr/local/lib/python3.7/dist-packages/sklearn/datasets/data/boston_house_prices.csv'}\n"
          ],
          "name": "stdout"
        }
      ]
    },
    {
      "cell_type": "code",
      "metadata": {
        "id": "FVfBCvxpM8kL"
      },
      "source": [
        "#Loading the dataset to a Pandas DataFrame\n",
        "house_price_dataframe = pd.DataFrame(house_price_dataset.data, columns = house_price_dataset.feature_names)"
      ],
      "execution_count": 196,
      "outputs": []
    },
    {
      "cell_type": "code",
      "metadata": {
        "colab": {
          "base_uri": "https://localhost:8080/",
          "height": 195
        },
        "id": "2MV-yyfhNsES",
        "outputId": "60759583-2f0c-451b-aba4-95a6736c6fe4"
      },
      "source": [
        "# Print 1st 5 Rows\n",
        "house_price_dataframe.head()"
      ],
      "execution_count": 197,
      "outputs": [
        {
          "output_type": "execute_result",
          "data": {
            "text/html": [
              "<div>\n",
              "<style scoped>\n",
              "    .dataframe tbody tr th:only-of-type {\n",
              "        vertical-align: middle;\n",
              "    }\n",
              "\n",
              "    .dataframe tbody tr th {\n",
              "        vertical-align: top;\n",
              "    }\n",
              "\n",
              "    .dataframe thead th {\n",
              "        text-align: right;\n",
              "    }\n",
              "</style>\n",
              "<table border=\"1\" class=\"dataframe\">\n",
              "  <thead>\n",
              "    <tr style=\"text-align: right;\">\n",
              "      <th></th>\n",
              "      <th>CRIM</th>\n",
              "      <th>ZN</th>\n",
              "      <th>INDUS</th>\n",
              "      <th>CHAS</th>\n",
              "      <th>NOX</th>\n",
              "      <th>RM</th>\n",
              "      <th>AGE</th>\n",
              "      <th>DIS</th>\n",
              "      <th>RAD</th>\n",
              "      <th>TAX</th>\n",
              "      <th>PTRATIO</th>\n",
              "      <th>B</th>\n",
              "      <th>LSTAT</th>\n",
              "    </tr>\n",
              "  </thead>\n",
              "  <tbody>\n",
              "    <tr>\n",
              "      <th>0</th>\n",
              "      <td>0.00632</td>\n",
              "      <td>18.0</td>\n",
              "      <td>2.31</td>\n",
              "      <td>0.0</td>\n",
              "      <td>0.538</td>\n",
              "      <td>6.575</td>\n",
              "      <td>65.2</td>\n",
              "      <td>4.0900</td>\n",
              "      <td>1.0</td>\n",
              "      <td>296.0</td>\n",
              "      <td>15.3</td>\n",
              "      <td>396.90</td>\n",
              "      <td>4.98</td>\n",
              "    </tr>\n",
              "    <tr>\n",
              "      <th>1</th>\n",
              "      <td>0.02731</td>\n",
              "      <td>0.0</td>\n",
              "      <td>7.07</td>\n",
              "      <td>0.0</td>\n",
              "      <td>0.469</td>\n",
              "      <td>6.421</td>\n",
              "      <td>78.9</td>\n",
              "      <td>4.9671</td>\n",
              "      <td>2.0</td>\n",
              "      <td>242.0</td>\n",
              "      <td>17.8</td>\n",
              "      <td>396.90</td>\n",
              "      <td>9.14</td>\n",
              "    </tr>\n",
              "    <tr>\n",
              "      <th>2</th>\n",
              "      <td>0.02729</td>\n",
              "      <td>0.0</td>\n",
              "      <td>7.07</td>\n",
              "      <td>0.0</td>\n",
              "      <td>0.469</td>\n",
              "      <td>7.185</td>\n",
              "      <td>61.1</td>\n",
              "      <td>4.9671</td>\n",
              "      <td>2.0</td>\n",
              "      <td>242.0</td>\n",
              "      <td>17.8</td>\n",
              "      <td>392.83</td>\n",
              "      <td>4.03</td>\n",
              "    </tr>\n",
              "    <tr>\n",
              "      <th>3</th>\n",
              "      <td>0.03237</td>\n",
              "      <td>0.0</td>\n",
              "      <td>2.18</td>\n",
              "      <td>0.0</td>\n",
              "      <td>0.458</td>\n",
              "      <td>6.998</td>\n",
              "      <td>45.8</td>\n",
              "      <td>6.0622</td>\n",
              "      <td>3.0</td>\n",
              "      <td>222.0</td>\n",
              "      <td>18.7</td>\n",
              "      <td>394.63</td>\n",
              "      <td>2.94</td>\n",
              "    </tr>\n",
              "    <tr>\n",
              "      <th>4</th>\n",
              "      <td>0.06905</td>\n",
              "      <td>0.0</td>\n",
              "      <td>2.18</td>\n",
              "      <td>0.0</td>\n",
              "      <td>0.458</td>\n",
              "      <td>7.147</td>\n",
              "      <td>54.2</td>\n",
              "      <td>6.0622</td>\n",
              "      <td>3.0</td>\n",
              "      <td>222.0</td>\n",
              "      <td>18.7</td>\n",
              "      <td>396.90</td>\n",
              "      <td>5.33</td>\n",
              "    </tr>\n",
              "  </tbody>\n",
              "</table>\n",
              "</div>"
            ],
            "text/plain": [
              "      CRIM    ZN  INDUS  CHAS    NOX  ...  RAD    TAX  PTRATIO       B  LSTAT\n",
              "0  0.00632  18.0   2.31   0.0  0.538  ...  1.0  296.0     15.3  396.90   4.98\n",
              "1  0.02731   0.0   7.07   0.0  0.469  ...  2.0  242.0     17.8  396.90   9.14\n",
              "2  0.02729   0.0   7.07   0.0  0.469  ...  2.0  242.0     17.8  392.83   4.03\n",
              "3  0.03237   0.0   2.18   0.0  0.458  ...  3.0  222.0     18.7  394.63   2.94\n",
              "4  0.06905   0.0   2.18   0.0  0.458  ...  3.0  222.0     18.7  396.90   5.33\n",
              "\n",
              "[5 rows x 13 columns]"
            ]
          },
          "metadata": {
            "tags": []
          },
          "execution_count": 197
        }
      ]
    },
    {
      "cell_type": "code",
      "metadata": {
        "id": "69kq6eyEN5WL"
      },
      "source": [
        "# Add the target (Price) column to the dataframe\n",
        "house_price_dataframe['Price'] = house_price_dataset.target"
      ],
      "execution_count": 198,
      "outputs": []
    },
    {
      "cell_type": "code",
      "metadata": {
        "colab": {
          "base_uri": "https://localhost:8080/",
          "height": 195
        },
        "id": "283vBsIdOKjC",
        "outputId": "d221b9b5-0e33-4bd0-8535-f30ee1db18ca"
      },
      "source": [
        "house_price_dataframe.head()"
      ],
      "execution_count": 199,
      "outputs": [
        {
          "output_type": "execute_result",
          "data": {
            "text/html": [
              "<div>\n",
              "<style scoped>\n",
              "    .dataframe tbody tr th:only-of-type {\n",
              "        vertical-align: middle;\n",
              "    }\n",
              "\n",
              "    .dataframe tbody tr th {\n",
              "        vertical-align: top;\n",
              "    }\n",
              "\n",
              "    .dataframe thead th {\n",
              "        text-align: right;\n",
              "    }\n",
              "</style>\n",
              "<table border=\"1\" class=\"dataframe\">\n",
              "  <thead>\n",
              "    <tr style=\"text-align: right;\">\n",
              "      <th></th>\n",
              "      <th>CRIM</th>\n",
              "      <th>ZN</th>\n",
              "      <th>INDUS</th>\n",
              "      <th>CHAS</th>\n",
              "      <th>NOX</th>\n",
              "      <th>RM</th>\n",
              "      <th>AGE</th>\n",
              "      <th>DIS</th>\n",
              "      <th>RAD</th>\n",
              "      <th>TAX</th>\n",
              "      <th>PTRATIO</th>\n",
              "      <th>B</th>\n",
              "      <th>LSTAT</th>\n",
              "      <th>Price</th>\n",
              "    </tr>\n",
              "  </thead>\n",
              "  <tbody>\n",
              "    <tr>\n",
              "      <th>0</th>\n",
              "      <td>0.00632</td>\n",
              "      <td>18.0</td>\n",
              "      <td>2.31</td>\n",
              "      <td>0.0</td>\n",
              "      <td>0.538</td>\n",
              "      <td>6.575</td>\n",
              "      <td>65.2</td>\n",
              "      <td>4.0900</td>\n",
              "      <td>1.0</td>\n",
              "      <td>296.0</td>\n",
              "      <td>15.3</td>\n",
              "      <td>396.90</td>\n",
              "      <td>4.98</td>\n",
              "      <td>24.0</td>\n",
              "    </tr>\n",
              "    <tr>\n",
              "      <th>1</th>\n",
              "      <td>0.02731</td>\n",
              "      <td>0.0</td>\n",
              "      <td>7.07</td>\n",
              "      <td>0.0</td>\n",
              "      <td>0.469</td>\n",
              "      <td>6.421</td>\n",
              "      <td>78.9</td>\n",
              "      <td>4.9671</td>\n",
              "      <td>2.0</td>\n",
              "      <td>242.0</td>\n",
              "      <td>17.8</td>\n",
              "      <td>396.90</td>\n",
              "      <td>9.14</td>\n",
              "      <td>21.6</td>\n",
              "    </tr>\n",
              "    <tr>\n",
              "      <th>2</th>\n",
              "      <td>0.02729</td>\n",
              "      <td>0.0</td>\n",
              "      <td>7.07</td>\n",
              "      <td>0.0</td>\n",
              "      <td>0.469</td>\n",
              "      <td>7.185</td>\n",
              "      <td>61.1</td>\n",
              "      <td>4.9671</td>\n",
              "      <td>2.0</td>\n",
              "      <td>242.0</td>\n",
              "      <td>17.8</td>\n",
              "      <td>392.83</td>\n",
              "      <td>4.03</td>\n",
              "      <td>34.7</td>\n",
              "    </tr>\n",
              "    <tr>\n",
              "      <th>3</th>\n",
              "      <td>0.03237</td>\n",
              "      <td>0.0</td>\n",
              "      <td>2.18</td>\n",
              "      <td>0.0</td>\n",
              "      <td>0.458</td>\n",
              "      <td>6.998</td>\n",
              "      <td>45.8</td>\n",
              "      <td>6.0622</td>\n",
              "      <td>3.0</td>\n",
              "      <td>222.0</td>\n",
              "      <td>18.7</td>\n",
              "      <td>394.63</td>\n",
              "      <td>2.94</td>\n",
              "      <td>33.4</td>\n",
              "    </tr>\n",
              "    <tr>\n",
              "      <th>4</th>\n",
              "      <td>0.06905</td>\n",
              "      <td>0.0</td>\n",
              "      <td>2.18</td>\n",
              "      <td>0.0</td>\n",
              "      <td>0.458</td>\n",
              "      <td>7.147</td>\n",
              "      <td>54.2</td>\n",
              "      <td>6.0622</td>\n",
              "      <td>3.0</td>\n",
              "      <td>222.0</td>\n",
              "      <td>18.7</td>\n",
              "      <td>396.90</td>\n",
              "      <td>5.33</td>\n",
              "      <td>36.2</td>\n",
              "    </tr>\n",
              "  </tbody>\n",
              "</table>\n",
              "</div>"
            ],
            "text/plain": [
              "      CRIM    ZN  INDUS  CHAS    NOX  ...    TAX  PTRATIO       B  LSTAT  Price\n",
              "0  0.00632  18.0   2.31   0.0  0.538  ...  296.0     15.3  396.90   4.98   24.0\n",
              "1  0.02731   0.0   7.07   0.0  0.469  ...  242.0     17.8  396.90   9.14   21.6\n",
              "2  0.02729   0.0   7.07   0.0  0.469  ...  242.0     17.8  392.83   4.03   34.7\n",
              "3  0.03237   0.0   2.18   0.0  0.458  ...  222.0     18.7  394.63   2.94   33.4\n",
              "4  0.06905   0.0   2.18   0.0  0.458  ...  222.0     18.7  396.90   5.33   36.2\n",
              "\n",
              "[5 rows x 14 columns]"
            ]
          },
          "metadata": {
            "tags": []
          },
          "execution_count": 199
        }
      ]
    },
    {
      "cell_type": "code",
      "metadata": {
        "colab": {
          "base_uri": "https://localhost:8080/"
        },
        "id": "aoowtx6NORTO",
        "outputId": "6222788c-5376-4f40-9d71-044faf34470e"
      },
      "source": [
        "# Checking the number of rows and column in the DataFrame\n",
        "house_price_dataframe.shape"
      ],
      "execution_count": 200,
      "outputs": [
        {
          "output_type": "execute_result",
          "data": {
            "text/plain": [
              "(506, 14)"
            ]
          },
          "metadata": {
            "tags": []
          },
          "execution_count": 200
        }
      ]
    },
    {
      "cell_type": "code",
      "metadata": {
        "colab": {
          "base_uri": "https://localhost:8080/"
        },
        "id": "ureYJww8OeQX",
        "outputId": "62b844d5-8a17-4e6b-b100-da81e436c7dc"
      },
      "source": [
        "# Check for missing values\n",
        "house_price_dataframe.isnull().sum()"
      ],
      "execution_count": 201,
      "outputs": [
        {
          "output_type": "execute_result",
          "data": {
            "text/plain": [
              "CRIM       0\n",
              "ZN         0\n",
              "INDUS      0\n",
              "CHAS       0\n",
              "NOX        0\n",
              "RM         0\n",
              "AGE        0\n",
              "DIS        0\n",
              "RAD        0\n",
              "TAX        0\n",
              "PTRATIO    0\n",
              "B          0\n",
              "LSTAT      0\n",
              "Price      0\n",
              "dtype: int64"
            ]
          },
          "metadata": {
            "tags": []
          },
          "execution_count": 201
        }
      ]
    },
    {
      "cell_type": "code",
      "metadata": {
        "colab": {
          "base_uri": "https://localhost:8080/",
          "height": 284
        },
        "id": "sJRPmwSZOnXB",
        "outputId": "d9df3fe6-6d30-4605-a295-b1cf77e077e0"
      },
      "source": [
        "# Statistical measure of the Dataset\n",
        "house_price_dataframe.describe()"
      ],
      "execution_count": 202,
      "outputs": [
        {
          "output_type": "execute_result",
          "data": {
            "text/html": [
              "<div>\n",
              "<style scoped>\n",
              "    .dataframe tbody tr th:only-of-type {\n",
              "        vertical-align: middle;\n",
              "    }\n",
              "\n",
              "    .dataframe tbody tr th {\n",
              "        vertical-align: top;\n",
              "    }\n",
              "\n",
              "    .dataframe thead th {\n",
              "        text-align: right;\n",
              "    }\n",
              "</style>\n",
              "<table border=\"1\" class=\"dataframe\">\n",
              "  <thead>\n",
              "    <tr style=\"text-align: right;\">\n",
              "      <th></th>\n",
              "      <th>CRIM</th>\n",
              "      <th>ZN</th>\n",
              "      <th>INDUS</th>\n",
              "      <th>CHAS</th>\n",
              "      <th>NOX</th>\n",
              "      <th>RM</th>\n",
              "      <th>AGE</th>\n",
              "      <th>DIS</th>\n",
              "      <th>RAD</th>\n",
              "      <th>TAX</th>\n",
              "      <th>PTRATIO</th>\n",
              "      <th>B</th>\n",
              "      <th>LSTAT</th>\n",
              "      <th>Price</th>\n",
              "    </tr>\n",
              "  </thead>\n",
              "  <tbody>\n",
              "    <tr>\n",
              "      <th>count</th>\n",
              "      <td>506.000000</td>\n",
              "      <td>506.000000</td>\n",
              "      <td>506.000000</td>\n",
              "      <td>506.000000</td>\n",
              "      <td>506.000000</td>\n",
              "      <td>506.000000</td>\n",
              "      <td>506.000000</td>\n",
              "      <td>506.000000</td>\n",
              "      <td>506.000000</td>\n",
              "      <td>506.000000</td>\n",
              "      <td>506.000000</td>\n",
              "      <td>506.000000</td>\n",
              "      <td>506.000000</td>\n",
              "      <td>506.000000</td>\n",
              "    </tr>\n",
              "    <tr>\n",
              "      <th>mean</th>\n",
              "      <td>3.613524</td>\n",
              "      <td>11.363636</td>\n",
              "      <td>11.136779</td>\n",
              "      <td>0.069170</td>\n",
              "      <td>0.554695</td>\n",
              "      <td>6.284634</td>\n",
              "      <td>68.574901</td>\n",
              "      <td>3.795043</td>\n",
              "      <td>9.549407</td>\n",
              "      <td>408.237154</td>\n",
              "      <td>18.455534</td>\n",
              "      <td>356.674032</td>\n",
              "      <td>12.653063</td>\n",
              "      <td>22.532806</td>\n",
              "    </tr>\n",
              "    <tr>\n",
              "      <th>std</th>\n",
              "      <td>8.601545</td>\n",
              "      <td>23.322453</td>\n",
              "      <td>6.860353</td>\n",
              "      <td>0.253994</td>\n",
              "      <td>0.115878</td>\n",
              "      <td>0.702617</td>\n",
              "      <td>28.148861</td>\n",
              "      <td>2.105710</td>\n",
              "      <td>8.707259</td>\n",
              "      <td>168.537116</td>\n",
              "      <td>2.164946</td>\n",
              "      <td>91.294864</td>\n",
              "      <td>7.141062</td>\n",
              "      <td>9.197104</td>\n",
              "    </tr>\n",
              "    <tr>\n",
              "      <th>min</th>\n",
              "      <td>0.006320</td>\n",
              "      <td>0.000000</td>\n",
              "      <td>0.460000</td>\n",
              "      <td>0.000000</td>\n",
              "      <td>0.385000</td>\n",
              "      <td>3.561000</td>\n",
              "      <td>2.900000</td>\n",
              "      <td>1.129600</td>\n",
              "      <td>1.000000</td>\n",
              "      <td>187.000000</td>\n",
              "      <td>12.600000</td>\n",
              "      <td>0.320000</td>\n",
              "      <td>1.730000</td>\n",
              "      <td>5.000000</td>\n",
              "    </tr>\n",
              "    <tr>\n",
              "      <th>25%</th>\n",
              "      <td>0.082045</td>\n",
              "      <td>0.000000</td>\n",
              "      <td>5.190000</td>\n",
              "      <td>0.000000</td>\n",
              "      <td>0.449000</td>\n",
              "      <td>5.885500</td>\n",
              "      <td>45.025000</td>\n",
              "      <td>2.100175</td>\n",
              "      <td>4.000000</td>\n",
              "      <td>279.000000</td>\n",
              "      <td>17.400000</td>\n",
              "      <td>375.377500</td>\n",
              "      <td>6.950000</td>\n",
              "      <td>17.025000</td>\n",
              "    </tr>\n",
              "    <tr>\n",
              "      <th>50%</th>\n",
              "      <td>0.256510</td>\n",
              "      <td>0.000000</td>\n",
              "      <td>9.690000</td>\n",
              "      <td>0.000000</td>\n",
              "      <td>0.538000</td>\n",
              "      <td>6.208500</td>\n",
              "      <td>77.500000</td>\n",
              "      <td>3.207450</td>\n",
              "      <td>5.000000</td>\n",
              "      <td>330.000000</td>\n",
              "      <td>19.050000</td>\n",
              "      <td>391.440000</td>\n",
              "      <td>11.360000</td>\n",
              "      <td>21.200000</td>\n",
              "    </tr>\n",
              "    <tr>\n",
              "      <th>75%</th>\n",
              "      <td>3.677083</td>\n",
              "      <td>12.500000</td>\n",
              "      <td>18.100000</td>\n",
              "      <td>0.000000</td>\n",
              "      <td>0.624000</td>\n",
              "      <td>6.623500</td>\n",
              "      <td>94.075000</td>\n",
              "      <td>5.188425</td>\n",
              "      <td>24.000000</td>\n",
              "      <td>666.000000</td>\n",
              "      <td>20.200000</td>\n",
              "      <td>396.225000</td>\n",
              "      <td>16.955000</td>\n",
              "      <td>25.000000</td>\n",
              "    </tr>\n",
              "    <tr>\n",
              "      <th>max</th>\n",
              "      <td>88.976200</td>\n",
              "      <td>100.000000</td>\n",
              "      <td>27.740000</td>\n",
              "      <td>1.000000</td>\n",
              "      <td>0.871000</td>\n",
              "      <td>8.780000</td>\n",
              "      <td>100.000000</td>\n",
              "      <td>12.126500</td>\n",
              "      <td>24.000000</td>\n",
              "      <td>711.000000</td>\n",
              "      <td>22.000000</td>\n",
              "      <td>396.900000</td>\n",
              "      <td>37.970000</td>\n",
              "      <td>50.000000</td>\n",
              "    </tr>\n",
              "  </tbody>\n",
              "</table>\n",
              "</div>"
            ],
            "text/plain": [
              "             CRIM          ZN       INDUS  ...           B       LSTAT       Price\n",
              "count  506.000000  506.000000  506.000000  ...  506.000000  506.000000  506.000000\n",
              "mean     3.613524   11.363636   11.136779  ...  356.674032   12.653063   22.532806\n",
              "std      8.601545   23.322453    6.860353  ...   91.294864    7.141062    9.197104\n",
              "min      0.006320    0.000000    0.460000  ...    0.320000    1.730000    5.000000\n",
              "25%      0.082045    0.000000    5.190000  ...  375.377500    6.950000   17.025000\n",
              "50%      0.256510    0.000000    9.690000  ...  391.440000   11.360000   21.200000\n",
              "75%      3.677083   12.500000   18.100000  ...  396.225000   16.955000   25.000000\n",
              "max     88.976200  100.000000   27.740000  ...  396.900000   37.970000   50.000000\n",
              "\n",
              "[8 rows x 14 columns]"
            ]
          },
          "metadata": {
            "tags": []
          },
          "execution_count": 202
        }
      ]
    },
    {
      "cell_type": "markdown",
      "metadata": {
        "id": "3-_ZklWTOz6E"
      },
      "source": [
        "Understanding the Correlation between various features in the dataset"
      ]
    },
    {
      "cell_type": "markdown",
      "metadata": {
        "id": "L6ovlfxlO9LD"
      },
      "source": [
        "1. Positive Correlation\n",
        "\n",
        "2. Negative Correlation"
      ]
    },
    {
      "cell_type": "code",
      "metadata": {
        "id": "uv06ES2uOxRT"
      },
      "source": [
        "correlation = house_price_dataframe.corr()"
      ],
      "execution_count": 203,
      "outputs": []
    },
    {
      "cell_type": "code",
      "metadata": {
        "colab": {
          "base_uri": "https://localhost:8080/",
          "height": 596
        },
        "id": "ZEj1B1dcPKCl",
        "outputId": "e722635e-e8eb-4ddc-a37d-065b579295a3"
      },
      "source": [
        "# Constructing a Heatmap to understand the Correlations\n",
        "plt.figure(figsize=(10,10))\n",
        "sns.heatmap(correlation, cbar=True, square=True, fmt='.1f', annot=True, annot_kws={'size':8}, cmap='Blues')"
      ],
      "execution_count": 204,
      "outputs": [
        {
          "output_type": "execute_result",
          "data": {
            "text/plain": [
              "<matplotlib.axes._subplots.AxesSubplot at 0x7f3ce61999d0>"
            ]
          },
          "metadata": {
            "tags": []
          },
          "execution_count": 204
        },
        {
          "output_type": "display_data",
          "data": {
            "image/png": "[encoded data removed]",
            "text/plain": [
              "<Figure size 720x720 with 2 Axes>"
            ]
          },
          "metadata": {
            "tags": [],
            "needs_background": "light"
          }
        }
      ]
    },
    {
      "cell_type": "markdown",
      "metadata": {
        "id": "PEbgccnoQFvd"
      },
      "source": [
        "Splitting the Data And Target"
      ]
    },
    {
      "cell_type": "code",
      "metadata": {
        "id": "0HfyAQDpPxBN"
      },
      "source": [
        "X= house_price_dataframe.drop(['Price'], axis=1)\n",
        "\n",
        "Y= house_price_dataframe['Price']"
      ],
      "execution_count": 205,
      "outputs": []
    },
    {
      "cell_type": "code",
      "metadata": {
        "colab": {
          "base_uri": "https://localhost:8080/"
        },
        "id": "SoeSxIA0Qb84",
        "outputId": "84df7fa6-cdbf-4a55-8b32-f92f9a083762"
      },
      "source": [
        "print(X)\n",
        "print(Y)"
      ],
      "execution_count": 206,
      "outputs": [
        {
          "output_type": "stream",
          "text": [
            "        CRIM    ZN  INDUS  CHAS    NOX  ...  RAD    TAX  PTRATIO       B  LSTAT\n",
            "0    0.00632  18.0   2.31   0.0  0.538  ...  1.0  296.0     15.3  396.90   4.98\n",
            "1    0.02731   0.0   7.07   0.0  0.469  ...  2.0  242.0     17.8  396.90   9.14\n",
            "2    0.02729   0.0   7.07   0.0  0.469  ...  2.0  242.0     17.8  392.83   4.03\n",
            "3    0.03237   0.0   2.18   0.0  0.458  ...  3.0  222.0     18.7  394.63   2.94\n",
            "4    0.06905   0.0   2.18   0.0  0.458  ...  3.0  222.0     18.7  396.90   5.33\n",
            "..       ...   ...    ...   ...    ...  ...  ...    ...      ...     ...    ...\n",
            "501  0.06263   0.0  11.93   0.0  0.573  ...  1.0  273.0     21.0  391.99   9.67\n",
            "502  0.04527   0.0  11.93   0.0  0.573  ...  1.0  273.0     21.0  396.90   9.08\n",
            "503  0.06076   0.0  11.93   0.0  0.573  ...  1.0  273.0     21.0  396.90   5.64\n",
            "504  0.10959   0.0  11.93   0.0  0.573  ...  1.0  273.0     21.0  393.45   6.48\n",
            "505  0.04741   0.0  11.93   0.0  0.573  ...  1.0  273.0     21.0  396.90   7.88\n",
            "\n",
            "[506 rows x 13 columns]\n",
            "0      24.0\n",
            "1      21.6\n",
            "2      34.7\n",
            "3      33.4\n",
            "4      36.2\n",
            "       ... \n",
            "501    22.4\n",
            "502    20.6\n",
            "503    23.9\n",
            "504    22.0\n",
            "505    11.9\n",
            "Name: Price, Length: 506, dtype: float64\n"
          ],
          "name": "stdout"
        }
      ]
    },
    {
      "cell_type": "markdown",
      "metadata": {
        "id": "o1ItrN2QQx9o"
      },
      "source": [
        "Splitting the Data into Training Data And Test Data"
      ]
    },
    {
      "cell_type": "code",
      "metadata": {
        "id": "G2B_utOyQszT"
      },
      "source": [
        "X_train, X_test, Y_train, Y_test = train_test_split(X, Y, test_size = 0.2, random_state = 2 )"
      ],
      "execution_count": 207,
      "outputs": []
    },
    {
      "cell_type": "code",
      "metadata": {
        "colab": {
          "base_uri": "https://localhost:8080/"
        },
        "id": "HPgY1o1MRTHS",
        "outputId": "3b109c1e-3c6c-4bc9-e286-206782bc63b5"
      },
      "source": [
        "print(X.shape, X_train.shape, X_test.shape)"
      ],
      "execution_count": 208,
      "outputs": [
        {
          "output_type": "stream",
          "text": [
            "(506, 13) (404, 13) (102, 13)\n"
          ],
          "name": "stdout"
        }
      ]
    },
    {
      "cell_type": "markdown",
      "metadata": {
        "id": "jdROGOulRcYo"
      },
      "source": [
        "Model Training"
      ]
    },
    {
      "cell_type": "markdown",
      "metadata": {
        "id": "LBLfqLKFRfLP"
      },
      "source": [
        "XGBoost Regressor"
      ]
    },
    {
      "cell_type": "code",
      "metadata": {
        "id": "_GHgJUF5RavY"
      },
      "source": [
        "# Loading The Model\n",
        "model = XGBRFRegressor()"
      ],
      "execution_count": 209,
      "outputs": []
    },
    {
      "cell_type": "code",
      "metadata": {
        "colab": {
          "base_uri": "https://localhost:8080/"
        },
        "id": "EtZtb5cRRtlq",
        "outputId": "1a61bd81-2bf7-4329-bd28-af4010bba17d"
      },
      "source": [
        "# Training the model with X_train\n",
        "model.fit(X_train, Y_train)"
      ],
      "execution_count": 210,
      "outputs": [
        {
          "output_type": "stream",
          "text": [
            "[09:45:29] WARNING: /workspace/src/objective/regression_obj.cu:152: reg:linear is now deprecated in favor of reg:squarederror.\n"
          ],
          "name": "stdout"
        },
        {
          "output_type": "execute_result",
          "data": {
            "text/plain": [
              "XGBRFRegressor(base_score=0.5, colsample_bylevel=1, colsample_bynode=0.8,\n",
              "               colsample_bytree=1, gamma=0, learning_rate=1, max_delta_step=0,\n",
              "               max_depth=3, min_child_weight=1, missing=None, n_estimators=100,\n",
              "               n_jobs=1, nthread=None, objective='reg:linear', random_state=0,\n",
              "               reg_alpha=0, reg_lambda=1, scale_pos_weight=1, seed=None,\n",
              "               silent=None, subsample=0.8, verbosity=1)"
            ]
          },
          "metadata": {
            "tags": []
          },
          "execution_count": 210
        }
      ]
    },
    {
      "cell_type": "markdown",
      "metadata": {
        "id": "cUYt2wPqR5V4"
      },
      "source": [
        "Evaluation"
      ]
    },
    {
      "cell_type": "markdown",
      "metadata": {
        "id": "PImK8-N3R7qK"
      },
      "source": [
        "\n",
        "Prediction on Training Data"
      ]
    },
    {
      "cell_type": "code",
      "metadata": {
        "id": "VxZ8g3KPSPES"
      },
      "source": [
        "# Accuracy for Prediction on training Data\n",
        "training_data_prediction = model.predict(X_train)"
      ],
      "execution_count": 211,
      "outputs": []
    },
    {
      "cell_type": "code",
      "metadata": {
        "colab": {
          "base_uri": "https://localhost:8080/"
        },
        "id": "PZXYxK7NUzGY",
        "outputId": "97b88ffd-0d05-40a7-d1d5-3173ed147d26"
      },
      "source": [
        "print(training_data_prediction)"
      ],
      "execution_count": 212,
      "outputs": [
        {
          "output_type": "stream",
          "text": [
            "[24.26097   23.937279  20.795095  34.678898  17.572048  14.097384\n",
            " 20.537981  16.403696  12.070563  20.26593   15.364628  10.941337\n",
            " 26.76523   29.387794  32.45916   20.57872   23.951025  20.601912\n",
            " 33.815083  20.506857  24.623003  11.109909  40.909138  20.645123\n",
            " 17.505491  20.504509  20.822424  27.183193  20.645123  33.550327\n",
            " 20.683706  11.11836   20.674335  16.958675  12.095911  11.256641\n",
            " 13.076128  20.767534  17.01101   15.447571  24.259064  30.94419\n",
            " 14.228413  16.311405  17.086775  16.693718  24.510582  16.900564\n",
            " 40.909138  19.273033  20.724445  31.855907  16.715927  24.28798\n",
            " 20.58119   23.934807  20.58119   32.236374  27.75429   32.13063\n",
            " 20.63986   38.83841   14.931303  10.566486  24.012209  11.514686\n",
            " 23.501461  17.51859   20.683706  40.909138  38.35905   33.749577\n",
            " 23.96692   32.826275  24.248508  40.396328  15.01451   19.20232\n",
            " 23.930414  24.012209  33.132637  23.979893  24.291822  19.456394\n",
            " 40.701645  19.374865  33.48482   33.749577  10.3852215 23.744871\n",
            " 16.850208  12.587123  23.921787  40.553528  34.116405  17.757793\n",
            " 32.421284  20.631126  13.72959   24.364809  20.58119   20.506857\n",
            " 20.688082  19.369465  23.232586  23.246332  16.32867   33.749577\n",
            " 15.688089  15.049875  17.681112  20.262283  16.851614  20.583834\n",
            " 32.326973  13.310024  16.658545  20.738268  14.931303  30.506495\n",
            " 16.951412  40.80739   33.815083  17.923018  14.569158  15.041609\n",
            " 11.291173  14.931303  20.671865  11.244236  20.752014  11.180333\n",
            " 19.674623  40.723076  20.464138  20.537981  31.939709  20.615925\n",
            " 32.35168   23.96692   14.32178   16.132906  40.909138  23.887186\n",
            " 16.54839   11.586176  40.396328  30.330914  12.197463  20.506857\n",
            " 23.5096    34.010662  20.6165    10.999069  24.259064  24.53678\n",
            " 23.968998  11.6341715 24.218594  33.48482   15.93984   20.983957\n",
            " 24.531193  31.580362  26.913065  21.059061  11.180333  24.30859\n",
            " 20.58119   33.815083  24.324808  20.538546  20.783634  11.291173\n",
            " 20.504509  17.540262  20.688082  13.049564  40.56029   39.05913\n",
            " 13.8093605 20.601912  24.311062  15.876309  20.69296   23.951025\n",
            " 32.35168   20.615925  24.259064  18.482807  28.094282  16.272175\n",
            " 14.441696  20.726917  16.05352   16.163704  25.260668  23.946554\n",
            " 24.434402  23.66047   17.604137  27.98586   15.403974  17.681112\n",
            " 17.748001  38.60348   24.324808  23.88528   25.490618  17.791449\n",
            " 20.629145  20.537981  20.726917  20.681812  14.827582  15.44679\n",
            " 20.583097  20.769876  12.967814  17.681112  20.64265   20.679855\n",
            " 23.776255  11.127835  23.178     20.674335  16.931007  25.74459\n",
            " 31.714552  23.923864  14.931303  17.681112  25.688671  17.704632\n",
            " 29.270063  20.537981  32.45343   40.28097   16.449741  16.514872\n",
            " 10.98432   20.53551   16.850208  13.825289  16.937939  19.236275\n",
            " 27.067244  24.987314  20.502039  20.617304  24.001808  11.706804\n",
            " 29.881594  34.11577   20.662985  24.236183  20.615925  13.3136\n",
            " 17.508705  13.82446   16.19529   20.650234  16.038586  23.934807\n",
            " 25.166538  17.131966  24.14278   16.19529   20.615227  20.449776\n",
            " 24.885351  26.223858  23.967075  17.755148  24.30859   25.848734\n",
            " 17.572048  17.558878  24.311062  14.154821  24.281597  27.714008\n",
            " 14.970623  24.312822  16.470154  14.26855   12.472478  24.651783\n",
            " 14.931303  38.2959    23.934807  40.909138  10.955593  19.38012\n",
            " 13.913528  15.020466  16.298891  24.177269  24.036858  40.701645\n",
            " 15.200574  27.25297   26.757532  20.537981  25.159674  12.217257\n",
            " 40.80739   18.815298  19.408543  24.406221  23.701658  24.26097\n",
            " 10.999069  24.304197  20.53551   20.688082  24.26097   23.937279\n",
            " 18.54943   17.615936  16.791498  24.247078  15.501241  24.222403\n",
            " 20.619776  13.363072  18.977556  24.201635  24.225782  20.75179\n",
            " 24.142601  32.132896  19.749128  20.311932  20.795     24.135891\n",
            " 11.668704  24.019072  11.772452  11.614139  20.776852  11.127835\n",
            " 40.701645  24.293797  13.387616  16.848824  15.094019  24.758476\n",
            " 17.838593  17.670483  15.041609  20.53585   20.570787  20.688082\n",
            " 24.324808  24.390314  25.331064  15.280737  20.425064  20.537981\n",
            " 16.927183  24.425732  13.737311  24.032818  34.937008  30.932634\n",
            " 25.612635  20.539886  23.930414  12.282392  24.263302  17.396425\n",
            " 20.738268  20.3088    23.951025  18.271784  14.524621  32.81967\n",
            " 20.310602  40.909138  20.49279   23.88528   20.574488  17.378006\n",
            " 10.470182  17.643457  24.324808  20.58119   17.663265  23.967075\n",
            " 20.58119   24.510582  15.984533  40.396328  24.316755  23.736359\n",
            " 23.967075  16.792635  33.527473  17.51859   24.177269  20.58119\n",
            " 23.744871  20.528069 ]\n"
          ],
          "name": "stdout"
        }
      ]
    },
    {
      "cell_type": "code",
      "metadata": {
        "colab": {
          "base_uri": "https://localhost:8080/"
        },
        "id": "mmv6R0kIU6Qb",
        "outputId": "30ea48bc-fbe0-40d1-c2a2-da370da6c69c"
      },
      "source": [
        "# R^2 Error\n",
        "score_1 = metrics.r2_score(Y_train, training_data_prediction)\n",
        "\n",
        "# Mean Absolute Error\n",
        "score_2 = metrics.mean_absolute_error(Y_train, training_data_prediction)\n",
        "\n",
        "print('R^2 Error :', score_1)\n",
        "\n",
        "print('Mean Absolute Error :', score_2)"
      ],
      "execution_count": 213,
      "outputs": [
        {
          "output_type": "stream",
          "text": [
            "R^2 Error : 0.821063060730745\n",
            "Mean Absolute Error : 2.640049894257347\n"
          ],
          "name": "stdout"
        }
      ]
    },
    {
      "cell_type": "markdown",
      "metadata": {
        "id": "3ITLOwGMWLwZ"
      },
      "source": [
        "Visualizing The Actual Price And Predicted Prices"
      ]
    },
    {
      "cell_type": "code",
      "metadata": {
        "colab": {
          "base_uri": "https://localhost:8080/",
          "height": 295
        },
        "id": "KD_ITq6oWCPc",
        "outputId": "1e9544a0-4a60-40ab-92f2-b937ce80985b"
      },
      "source": [
        "plt.scatter(Y_train, training_data_prediction)\n",
        "plt.xlabel('Actual Prices')\n",
        "plt.ylabel('Predicted Prices')\n",
        "plt.title('Actual Price Vs Predicted Price')\n",
        "plt.show()"
      ],
      "execution_count": 214,
      "outputs": [
        {
          "output_type": "display_data",
          "data": {
            "image/png": "[encoded data removed]",
            "text/plain": [
              "<Figure size 432x288 with 1 Axes>"
            ]
          },
          "metadata": {
            "tags": [],
            "needs_background": "light"
          }
        }
      ]
    },
    {
      "cell_type": "markdown",
      "metadata": {
        "id": "lftjvpsAW0Wk"
      },
      "source": [
        "Prediction on Test Data"
      ]
    },
    {
      "cell_type": "code",
      "metadata": {
        "id": "Zz9B5C3wWwmA"
      },
      "source": [
        "# Accuracy for Prediction on test Data\n",
        "test_data_prediction = model.predict(X_test)"
      ],
      "execution_count": 215,
      "outputs": []
    },
    {
      "cell_type": "code",
      "metadata": {
        "colab": {
          "base_uri": "https://localhost:8080/"
        },
        "id": "rERefYHzcPct",
        "outputId": "4d750e6e-131b-459e-a4f3-199a78d1932d"
      },
      "source": [
        "print(test_data_prediction)"
      ],
      "execution_count": 216,
      "outputs": [
        {
          "output_type": "stream",
          "text": [
            "[19.35483  19.7516   34.58816  24.538847 10.999069 15.364654 23.574799\n",
            " 29.788872 15.057265 19.674623 24.446342 24.088846 23.937279 20.536\n",
            " 11.180333 23.958597 17.130493 11.783113 10.999069 13.632226 24.30859\n",
            " 20.538546 33.39814  18.783934 13.763054 20.53353  39.272854 33.851326\n",
            " 34.116405 23.951025 17.704632 23.934807 29.35503  25.93734  12.983863\n",
            " 16.008179 12.078683 20.357122 20.752014 20.68163  24.088846 16.836689\n",
            " 32.73617  10.941337 19.658222 14.001202 34.83526  15.867065 29.0522\n",
            " 12.748105 29.579948 23.813883 10.941337 32.333626 18.468187 20.506857\n",
            " 20.735796 17.968208 17.540262 17.757793 17.913319 24.068245 17.87011\n",
            " 28.998278 29.619457 24.924706 40.909138 23.574799 12.550637 24.012209\n",
            " 16.804165 10.999069 23.701658 16.218636 23.936447 27.121729 20.382343\n",
            " 20.688082 20.822424 23.443796 34.14458  17.772764 18.405237 26.98485\n",
            " 40.701645 33.39814  17.751894 23.989607 30.151299 20.487848 23.937279\n",
            " 20.599442 11.569439 34.94847  36.034397 11.180333 40.701645 34.750946\n",
            " 17.913319 16.710857 26.913065 24.26097 ]\n"
          ],
          "name": "stdout"
        }
      ]
    },
    {
      "cell_type": "code",
      "metadata": {
        "colab": {
          "base_uri": "https://localhost:8080/"
        },
        "id": "Ob-blvpnXKSv",
        "outputId": "fcd28490-0830-4345-9052-4c745be83750"
      },
      "source": [
        "# R^2 Error\n",
        "score_1 = metrics.r2_score(Y_test, test_data_prediction)\n",
        "\n",
        "# Mean Absolute Error\n",
        "score_2 = metrics.mean_absolute_error(Y_test, test_data_prediction)\n",
        "\n",
        "print('R^2 Error :', score_1)\n",
        "\n",
        "print('Mean Absolute Error :', score_2)"
      ],
      "execution_count": 217,
      "outputs": [
        {
          "output_type": "stream",
          "text": [
            "R^2 Error : 0.8517048643795635\n",
            "Mean Absolute Error : 2.8000569960650274\n"
          ],
          "name": "stdout"
        }
      ]
    },
    {
      "cell_type": "markdown",
      "metadata": {
        "id": "FvgwzzNCQ3FG"
      },
      "source": [
        " Predictive Analysis"
      ]
    },
    {
      "cell_type": "code",
      "metadata": {
        "id": "0YvyeVNnXhkj",
        "colab": {
          "base_uri": "https://localhost:8080/"
        },
        "outputId": "e9dd0e99-7df9-465f-f3d4-79a5e0bb96c5"
      },
      "source": [
        "print('Predicting Price of House are:',training_data_prediction)  # By fitting X_train to our Model it gives predicted Y_train (Predictive price for training Data)\n"
      ],
      "execution_count": 218,
      "outputs": [
        {
          "output_type": "stream",
          "text": [
            "Predicting Price of House are: [24.26097   23.937279  20.795095  34.678898  17.572048  14.097384\n",
            " 20.537981  16.403696  12.070563  20.26593   15.364628  10.941337\n",
            " 26.76523   29.387794  32.45916   20.57872   23.951025  20.601912\n",
            " 33.815083  20.506857  24.623003  11.109909  40.909138  20.645123\n",
            " 17.505491  20.504509  20.822424  27.183193  20.645123  33.550327\n",
            " 20.683706  11.11836   20.674335  16.958675  12.095911  11.256641\n",
            " 13.076128  20.767534  17.01101   15.447571  24.259064  30.94419\n",
            " 14.228413  16.311405  17.086775  16.693718  24.510582  16.900564\n",
            " 40.909138  19.273033  20.724445  31.855907  16.715927  24.28798\n",
            " 20.58119   23.934807  20.58119   32.236374  27.75429   32.13063\n",
            " 20.63986   38.83841   14.931303  10.566486  24.012209  11.514686\n",
            " 23.501461  17.51859   20.683706  40.909138  38.35905   33.749577\n",
            " 23.96692   32.826275  24.248508  40.396328  15.01451   19.20232\n",
            " 23.930414  24.012209  33.132637  23.979893  24.291822  19.456394\n",
            " 40.701645  19.374865  33.48482   33.749577  10.3852215 23.744871\n",
            " 16.850208  12.587123  23.921787  40.553528  34.116405  17.757793\n",
            " 32.421284  20.631126  13.72959   24.364809  20.58119   20.506857\n",
            " 20.688082  19.369465  23.232586  23.246332  16.32867   33.749577\n",
            " 15.688089  15.049875  17.681112  20.262283  16.851614  20.583834\n",
            " 32.326973  13.310024  16.658545  20.738268  14.931303  30.506495\n",
            " 16.951412  40.80739   33.815083  17.923018  14.569158  15.041609\n",
            " 11.291173  14.931303  20.671865  11.244236  20.752014  11.180333\n",
            " 19.674623  40.723076  20.464138  20.537981  31.939709  20.615925\n",
            " 32.35168   23.96692   14.32178   16.132906  40.909138  23.887186\n",
            " 16.54839   11.586176  40.396328  30.330914  12.197463  20.506857\n",
            " 23.5096    34.010662  20.6165    10.999069  24.259064  24.53678\n",
            " 23.968998  11.6341715 24.218594  33.48482   15.93984   20.983957\n",
            " 24.531193  31.580362  26.913065  21.059061  11.180333  24.30859\n",
            " 20.58119   33.815083  24.324808  20.538546  20.783634  11.291173\n",
            " 20.504509  17.540262  20.688082  13.049564  40.56029   39.05913\n",
            " 13.8093605 20.601912  24.311062  15.876309  20.69296   23.951025\n",
            " 32.35168   20.615925  24.259064  18.482807  28.094282  16.272175\n",
            " 14.441696  20.726917  16.05352   16.163704  25.260668  23.946554\n",
            " 24.434402  23.66047   17.604137  27.98586   15.403974  17.681112\n",
            " 17.748001  38.60348   24.324808  23.88528   25.490618  17.791449\n",
            " 20.629145  20.537981  20.726917  20.681812  14.827582  15.44679\n",
            " 20.583097  20.769876  12.967814  17.681112  20.64265   20.679855\n",
            " 23.776255  11.127835  23.178     20.674335  16.931007  25.74459\n",
            " 31.714552  23.923864  14.931303  17.681112  25.688671  17.704632\n",
            " 29.270063  20.537981  32.45343   40.28097   16.449741  16.514872\n",
            " 10.98432   20.53551   16.850208  13.825289  16.937939  19.236275\n",
            " 27.067244  24.987314  20.502039  20.617304  24.001808  11.706804\n",
            " 29.881594  34.11577   20.662985  24.236183  20.615925  13.3136\n",
            " 17.508705  13.82446   16.19529   20.650234  16.038586  23.934807\n",
            " 25.166538  17.131966  24.14278   16.19529   20.615227  20.449776\n",
            " 24.885351  26.223858  23.967075  17.755148  24.30859   25.848734\n",
            " 17.572048  17.558878  24.311062  14.154821  24.281597  27.714008\n",
            " 14.970623  24.312822  16.470154  14.26855   12.472478  24.651783\n",
            " 14.931303  38.2959    23.934807  40.909138  10.955593  19.38012\n",
            " 13.913528  15.020466  16.298891  24.177269  24.036858  40.701645\n",
            " 15.200574  27.25297   26.757532  20.537981  25.159674  12.217257\n",
            " 40.80739   18.815298  19.408543  24.406221  23.701658  24.26097\n",
            " 10.999069  24.304197  20.53551   20.688082  24.26097   23.937279\n",
            " 18.54943   17.615936  16.791498  24.247078  15.501241  24.222403\n",
            " 20.619776  13.363072  18.977556  24.201635  24.225782  20.75179\n",
            " 24.142601  32.132896  19.749128  20.311932  20.795     24.135891\n",
            " 11.668704  24.019072  11.772452  11.614139  20.776852  11.127835\n",
            " 40.701645  24.293797  13.387616  16.848824  15.094019  24.758476\n",
            " 17.838593  17.670483  15.041609  20.53585   20.570787  20.688082\n",
            " 24.324808  24.390314  25.331064  15.280737  20.425064  20.537981\n",
            " 16.927183  24.425732  13.737311  24.032818  34.937008  30.932634\n",
            " 25.612635  20.539886  23.930414  12.282392  24.263302  17.396425\n",
            " 20.738268  20.3088    23.951025  18.271784  14.524621  32.81967\n",
            " 20.310602  40.909138  20.49279   23.88528   20.574488  17.378006\n",
            " 10.470182  17.643457  24.324808  20.58119   17.663265  23.967075\n",
            " 20.58119   24.510582  15.984533  40.396328  24.316755  23.736359\n",
            " 23.967075  16.792635  33.527473  17.51859   24.177269  20.58119\n",
            " 23.744871  20.528069 ]\n"
          ],
          "name": "stdout"
        }
      ]
    },
    {
      "cell_type": "code",
      "metadata": {
        "colab": {
          "base_uri": "https://localhost:8080/"
        },
        "id": "eFtYl9WxW-88",
        "outputId": "88aafd48-adef-4c3b-dbb4-24abe0e076d7"
      },
      "source": [
        "\n",
        "print('Real Price Value of House',Y_train)  #Actual Boston House Price of Training Data"
      ],
      "execution_count": 219,
      "outputs": [
        {
          "output_type": "stream",
          "text": [
            "Real Price Value of House 321    23.1\n",
            "37     21.0\n",
            "286    20.1\n",
            "2      34.7\n",
            "25     13.9\n",
            "       ... \n",
            "22     15.2\n",
            "72     22.8\n",
            "493    21.8\n",
            "15     19.9\n",
            "168    23.8\n",
            "Name: Price, Length: 404, dtype: float64\n"
          ],
          "name": "stdout"
        }
      ]
    },
    {
      "cell_type": "code",
      "metadata": {
        "colab": {
          "base_uri": "https://localhost:8080/",
          "height": 295
        },
        "id": "dv1iVqHxa961",
        "outputId": "d8a9d7f8-eff3-47de-ff1e-64eb2baa905a"
      },
      "source": [
        "plt.scatter(Y_train, training_data_prediction, edgecolors='g',linewidths=1,s=100, color='red',vmin=1,vmax=100)\n",
        "plt.xlabel('Actual Training Data  Prices')\n",
        "plt.ylabel('Predicted Prices')\n",
        "plt.title('Actual Price Vs Predicted Price')\n",
        "plt.show()"
      ],
      "execution_count": 220,
      "outputs": [
        {
          "output_type": "display_data",
          "data": {
            "image/png": "[encoded data removed]",
            "text/plain": [
              "<Figure size 432x288 with 1 Axes>"
            ]
          },
          "metadata": {
            "tags": [],
            "needs_background": "light"
          }
        }
      ]
    },
    {
      "cell_type": "code",
      "metadata": {
        "colab": {
          "base_uri": "https://localhost:8080/",
          "height": 295
        },
        "id": "PzJ0wU0Thjjq",
        "outputId": "d8f642db-fa16-4264-ba1f-e690f95b485a"
      },
      "source": [
        "plt.subplot(1,1,1) \n",
        "plt.scatter(Y_train,training_data_prediction, edgecolors='r', marker=\"^\",c='g',s=100, linewidths=1)\n",
        "plt.xlabel('Actual Train Data  Prices')\n",
        "plt.ylabel('Predicted Train Data Prices')\n",
        "plt.title('Actual Train Data Price Vs Predicted Train Data Price',c='g')\n",
        "#plt.grid(True)\n",
        "plt.show()"
      ],
      "execution_count": 221,
      "outputs": [
        {
          "output_type": "display_data",
          "data": {
            "image/png": "[encoded data removed]",
            "text/plain": [
              "<Figure size 432x288 with 1 Axes>"
            ]
          },
          "metadata": {
            "tags": [],
            "needs_background": "light"
          }
        }
      ]
    },
    {
      "cell_type": "code",
      "metadata": {
        "colab": {
          "base_uri": "https://localhost:8080/",
          "height": 295
        },
        "id": "r0vsQ-Lmk9ta",
        "outputId": "7ddd525c-0773-407d-f5ee-d43873207331"
      },
      "source": [
        "plt.subplot(1,1,1) \n",
        "plt.plot(Y_test, test_data_prediction,c='g', linestyle=':', linewidth=2)\n",
        "#plt.scatter(Y_test,test_data_prediction,linestyle=':', edgecolors='r',c='g',s=80, linewidths=2)\n",
        "plt.xlabel('Actual Test Data  Prices')\n",
        "plt.ylabel('Predicted Test Data Prices')\n",
        "plt.title('Actual test Data Price Vs Predicted Test Data Price',c='r')\n",
        "#plt.grid(True)\n",
        "plt.show()"
      ],
      "execution_count": 222,
      "outputs": [
        {
          "output_type": "display_data",
          "data": {
            "image/png": "[encoded data removed]",
            "text/plain": [
              "<Figure size 432x288 with 1 Axes>"
            ]
          },
          "metadata": {
            "tags": [],
            "needs_background": "light"
          }
        }
      ]
    }
  ]
}